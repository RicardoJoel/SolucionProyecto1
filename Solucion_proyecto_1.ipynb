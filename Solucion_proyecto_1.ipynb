{
  "nbformat": 4,
  "nbformat_minor": 0,
  "metadata": {
    "colab": {
      "name": "Solucion proyecto 1.ipynb",
      "provenance": []
    },
    "kernelspec": {
      "name": "python3",
      "display_name": "Python 3"
    },
    "language_info": {
      "name": "python"
    }
  },
  "cells": [
    {
      "cell_type": "code",
      "execution_count": 4,
      "metadata": {
        "id": "UGj9c11tDRZK"
      },
      "outputs": [],
      "source": [
        "# Importando librerías necesarias\n",
        "import numpy as np\n",
        "import pandas as pd"
      ]
    },
    {
      "cell_type": "markdown",
      "source": [
        "**Ejercicio N°1:**\n",
        "\n",
        "Escribir un programa que pregunte al usuario por las ventas de los\n",
        "últimos 5 días, y muestre por pantalla una serie con los datos de\n",
        "las ventas por producto: Nro de unidades y precio unitario,\n",
        "indexada por los días, antes y después de aplicarles un descuento\n",
        "del 5%."
      ],
      "metadata": {
        "id": "1EIl9hMCDYO5"
      }
    },
    {
      "cell_type": "code",
      "source": [
        "# importación de librerías necesarias\n",
        "from datetime import date, timedelta\n",
        "\n",
        "# definición de la función que imprime el título y las ventas indexadas por el día\n",
        "def imprimirVentas(titulo, ventas):\n",
        "  print('\\n', titulo, '\\n')\n",
        "  for k, v in ventas.items():\n",
        "    print(k, '\\t', round(v, 2)) # se imprime la venta con dos decimales\n",
        "\n",
        "# variables a usar durante la ejecución\n",
        "numDias = 5\n",
        "dscto = 5\n",
        "porc = 1 - dscto/100 # cálculo del porcentaje de venta final\n",
        "hoy = date.today()\n",
        "ventas = {}\n",
        "\n",
        "# se consulta las ventas de los ultimos días\n",
        "for i in range(numDias):\n",
        "  # calculo de la diferencia en días\n",
        "  dia = hoy - timedelta(days = numDias - i) \n",
        "  # se solicita las ventas del día\n",
        "  ventas[dia] = float(input(\"Ingrese las ventas del día \" + dia.strftime(\"%d/%m/%Y\") + ': '))\n",
        "\n",
        "# se obtiene la serie\n",
        "ventas = pd.Series(ventas)\n",
        "\n",
        "# imprimimos las ventas sin descuento\n",
        "imprimirVentas('Ventas antes de aplicar descuento', ventas)\n",
        "\n",
        "# imprimimos las ventas sin descuento\n",
        "imprimirVentas('Ventas después de aplicar descuento', ventas * porc)\n"
      ],
      "metadata": {
        "colab": {
          "base_uri": "https://localhost:8080/"
        },
        "id": "4mUMIoVnEUuM",
        "outputId": "a2f5ba80-6ac0-416e-d0d3-ba5ec1f9d40b"
      },
      "execution_count": 95,
      "outputs": [
        {
          "output_type": "stream",
          "name": "stdout",
          "text": [
            "Ingrese las ventas del día 22/04/2022: 20\n",
            "Ingrese las ventas del día 23/04/2022: 18\n",
            "Ingrese las ventas del día 24/04/2022: 19\n",
            "Ingrese las ventas del día 25/04/2022: 16\n",
            "Ingrese las ventas del día 26/04/2022: 14\n",
            "\n",
            " Ventas antes de aplicar descuento \n",
            "\n",
            "2022-04-22 \t 20.0\n",
            "2022-04-23 \t 18.0\n",
            "2022-04-24 \t 19.0\n",
            "2022-04-25 \t 16.0\n",
            "2022-04-26 \t 14.0\n",
            "\n",
            " Ventas después de aplicar descuento \n",
            "\n",
            "2022-04-22 \t 19.0\n",
            "2022-04-23 \t 17.1\n",
            "2022-04-24 \t 18.05\n",
            "2022-04-25 \t 15.2\n",
            "2022-04-26 \t 13.3\n"
          ]
        }
      ]
    },
    {
      "cell_type": "markdown",
      "source": [
        "**Ejercicio 2**\n",
        "\n",
        "Escribir un programa que reciba un diccionario con los ingresos\n",
        "mensuales de los clientes de una empresa, y devuelva una serie\n",
        "con el ingreso mínimo, máximo y media."
      ],
      "metadata": {
        "id": "7cS8To3hXL3O"
      }
    },
    {
      "cell_type": "code",
      "source": [
        "# funcion que calcula la estadistica\n",
        "def obtenerEstadistica(ingresos):\n",
        "  # transformación del diccionario en una serie de ingresos\n",
        "  ingresos = pd.Series(ingresos)\n",
        "  # cálculo de la estadítica en base a la serie obtenida\n",
        "  return pd.Series([ingresos.min(), ingresos.max(), ingresos.mean()], index=['Mínimo', 'Máximo', 'Media'])\n",
        "\n",
        "# diccionario con los ingresos mensuales de los clientes de una empresa\n",
        "ingresos = {'Juan Padilla':5000, 'María Roncal':4500, 'Pedro Montoya':4800, 'Carmen Salazar': 1500, 'Luis Corvera': 3700}\n",
        "\n",
        "# llamada a la función que calcula la estadística\n",
        "estadistica = obtenerEstadistica(ingresos)\n",
        "\n",
        "# impresión de las estadísticas obtenidas\n",
        "print('\\nEstadísticas obtenidas\\n')\n",
        "for k, v in estadistica.items():\n",
        "  print(k, '\\t', round(v, 2))"
      ],
      "metadata": {
        "colab": {
          "base_uri": "https://localhost:8080/"
        },
        "id": "f0WMIkQsXlhK",
        "outputId": "b63aa42a-04fd-4e3b-9e84-7acacef9d8d3"
      },
      "execution_count": 96,
      "outputs": [
        {
          "output_type": "stream",
          "name": "stdout",
          "text": [
            "\n",
            "Estadísticas obtenidas\n",
            "\n",
            "Mínimo \t 1500.0\n",
            "Máximo \t 5000.0\n",
            "Media \t 3900.0\n"
          ]
        }
      ]
    },
    {
      "cell_type": "markdown",
      "source": [
        "**Ejercicio 3**\n",
        "\n",
        "Escribir un programa que genere y muestre por pantalla un DataFrame con los datos de la tabla siguiente:\n",
        "\n",
        "Mes      Ventas  Gastos\n",
        "----------------------\n",
        "Enero    30500  22000\n",
        "----------------------\n",
        "Febrero  35600  23450\n",
        "----------------------\n",
        "Marzo    28300  18100\n",
        "----------------------\n",
        "Abril    33900  35700\n",
        "----------------------\n",
        "Marzo    42500  32450\n",
        "----------------------\n",
        "A continuación, generar nuevas columna:\n",
        "1. Columna 1 = Gasto/Ventas*100.\n",
        "2. Columna 2 = Si Ventas&gt;= 30000, imprimir “Meta Superada”,\n",
        "caso contrario imprimir “Meta no Superada”.\n",
        "3. Columna 3 = Si Gasto&gt;Ventas, calcular el sobre gasto.\n",
        "4. Obtener el total de las ventas de los últimos 3 meses\n",
        "5. Obtener el total de gastos de febrero a abril"
      ],
      "metadata": {
        "id": "qYj5HCTod6O5"
      }
    },
    {
      "cell_type": "code",
      "source": [
        "# establezco datos\n",
        "datos = [['Enero', 30500, 22000], ['Febrero', 35600, 23450], ['Marzo', 28300, 18100], ['Abril', 33900, 35700], ['Mayo', 42500, 32450]]\n",
        "\n",
        "# obtengo el dataframe en base a los datos establecidos\n",
        "contabilidad = pd.DataFrame(datos, columns=['Mes', 'Ventas', 'Gastos'])\n",
        "\n",
        "# imprimo el dataframe inicial\n",
        "print('\\nDataframe inicial\\n')\n",
        "print(contabilidad)\n",
        "\n",
        "# Gasto/Ventas*100\n",
        "contabilidad['Columna 1'] = (contabilidad['Gastos'] / contabilidad['Ventas'])*100\n",
        "\n",
        "# Si Ventas >= 30000, imprimir “Meta Superada”, caso contrario imprimir “Meta no Superada”\n",
        "contabilidad['Columna 2'] = np.where(contabilidad['Ventas'] >= 30000, 'Meta superada', 'Meta no superada')\n",
        "\n",
        "# Si Gasto>Ventas, calcular el sobre gasto\n",
        "contabilidad['Columna 3'] = np.where(contabilidad['Gastos'] > contabilidad['Ventas'], contabilidad['Gastos'] - contabilidad['Ventas'], '')\n",
        "\n",
        "# imprimo el dataframe final\n",
        "print('\\nDataframe final\\n')\n",
        "print(contabilidad)\n",
        "\n",
        "# obtengo el total de las ventas de los últimos 3 meses\n",
        "print('\\nTotal de ventas en los últimos 3 meses:', contabilidad['Ventas'][-3:].sum())\n",
        "\n",
        "# obtengo el total de gastos de febrero a abril\n",
        "print('\\nTotal de gastos de febrero a abril:', contabilidad['Gastos'][1:4].sum())\n"
      ],
      "metadata": {
        "colab": {
          "base_uri": "https://localhost:8080/"
        },
        "id": "Pad4EeeIfTfw",
        "outputId": "8c76497b-9bdb-45c3-9982-89da30305727"
      },
      "execution_count": 93,
      "outputs": [
        {
          "output_type": "stream",
          "name": "stdout",
          "text": [
            "\n",
            "Dataframe inicial\n",
            "\n",
            "       Mes  Ventas  Gastos\n",
            "0    Enero   30500   22000\n",
            "1  Febrero   35600   23450\n",
            "2    Marzo   28300   18100\n",
            "3    Abril   33900   35700\n",
            "4     Mayo   42500   32450\n",
            "\n",
            "Dataframe final\n",
            "\n",
            "       Mes  Ventas  Gastos   Columna 1         Columna 2 Columna 3\n",
            "0    Enero   30500   22000   72.131148     Meta superada          \n",
            "1  Febrero   35600   23450   65.870787     Meta superada          \n",
            "2    Marzo   28300   18100   63.957597  Meta no superada          \n",
            "3    Abril   33900   35700  105.309735     Meta superada      1800\n",
            "4     Mayo   42500   32450   76.352941     Meta superada          \n",
            "\n",
            "Total de ventas en los últimos 3 meses: 104700\n",
            "\n",
            "Total de gastos de febrero a abril: 77250\n"
          ]
        }
      ]
    },
    {
      "cell_type": "markdown",
      "source": [
        "**Ejercicio 4**\n",
        "\n",
        "Con el siguiente fichero Data - Riesgos.csv contiene información\n",
        "de riesgo de clientes de un banco. Escribir un programa con los\n",
        "siguientes requisitos:\n",
        "1. Generar un DataFrame con los datos del fichero.\n",
        "2. Mostrar por pantalla las dimensiones del DataFrame, el\n",
        "número de datos que contiene, los nombres de sus columnas\n",
        "y filas, los tipos de datos de las columnas, mostrar las 10\n",
        "primeras filas y las 10 últimas filas, verificar si tiene datos\n",
        "perdidos/nulos.\n",
        "3. Extraer las 100 primeras columnas y almacenarlas en un\n",
        "contenedor."
      ],
      "metadata": {
        "id": "vcovvU2hxkhU"
      }
    },
    {
      "cell_type": "code",
      "source": [
        "# Genero un DataFrame con los datos del fichero\n",
        "clientes = pd.read_csv('Data - Riesgos.csv')\n",
        "# Muestro las dimensiones del DataFrame\n",
        "print('Dimensiones:', clientes.shape)\n",
        "# Muestro el número de datos que contiene\n",
        "print('Número de datos:', clientes.size)\n",
        "# Muestro los nombres de sus columnas\n",
        "print('Nombres de columnas:', clientes.columns)\n",
        "# Muestro los nombres de sus filas\n",
        "print('Nombres de filas:', clientes.index)\n",
        "# Muestro los tipos de datos de las columnas\n",
        "print('Tipos de datos:\\n', clientes.dtypes)\n",
        "# Muestro las 10 primeras filas\n",
        "print('10 primeras filas:\\n', clientes.head(10))\n",
        "# Muestro las 10 últimas filas\n",
        "print('10 últimas filas:\\n', clientes.tail(10))\n",
        "# Verifico la cantidad de filas con datos perdidos/nulos\n",
        "print('\\nCantidad de datos perdidos/nulos:', len(clientes[np.isnan(clientes).any(axis=1)]))\n",
        "# Extraigo las 100 primeras filas y las almaceno en un contenedor\n",
        "contenedor = clientes.head(100)\n",
        "print('Contenido del contenedor:\\n', contenedor)"
      ],
      "metadata": {
        "colab": {
          "base_uri": "https://localhost:8080/"
        },
        "id": "_UXlxMUTyHVs",
        "outputId": "bbf57002-ae73-4583-8dd8-c423e378c88c"
      },
      "execution_count": 30,
      "outputs": [
        {
          "output_type": "stream",
          "name": "stdout",
          "text": [
            "Dimensiones: (4500, 10)\n",
            "Número de datos: 45000\n",
            "Nombres de columnas: Index(['ID', 'edad', 'meses', 'max_ant', 'ingreso', 'score', 'tipo_vivienda',\n",
            "       'zona', 'nivel', 'riesgo'],\n",
            "      dtype='object')\n",
            "Nombres de filas: RangeIndex(start=0, stop=4500, step=1)\n",
            "Tipos de datos:\n",
            " ID                 int64\n",
            "edad             float64\n",
            "meses            float64\n",
            "max_ant          float64\n",
            "ingreso          float64\n",
            "score            float64\n",
            "tipo_vivienda      int64\n",
            "zona             float64\n",
            "nivel              int64\n",
            "riesgo             int64\n",
            "dtype: object\n",
            "10 primeras filas:\n",
            "      ID  edad  meses  max_ant  ingreso  score  tipo_vivienda  zona  nivel  \\\n",
            "0  2208  33.0  128.0      6.0   3230.0  192.0              2   3.0      2   \n",
            "1  2211  32.0  185.0      7.0   2930.0  217.0              2   1.0      5   \n",
            "2  2212  28.0    NaN      7.0   1883.7  202.0              2   1.0      2   \n",
            "3  2216  56.0  200.0      0.0    850.0  194.0              2   1.0      5   \n",
            "4  2218  32.0  131.0     65.0   3200.0  200.0              2   1.0      2   \n",
            "5  2219  34.0  145.0      6.0   7000.0  196.0              2   5.0      2   \n",
            "6  2226   NaN  114.0      0.0   2171.5  178.0              2   2.0      1   \n",
            "7  2227  27.0  116.0      0.0    800.0  169.0              2   1.0      5   \n",
            "8  2228  26.0  182.0      6.0   3150.0  190.0              4   3.0      5   \n",
            "9  2230  25.0  154.0      1.0   2600.0  189.0              2   1.0      2   \n",
            "\n",
            "   riesgo  \n",
            "0       1  \n",
            "1       1  \n",
            "2       1  \n",
            "3       1  \n",
            "4       1  \n",
            "5       1  \n",
            "6       1  \n",
            "7       1  \n",
            "8       1  \n",
            "9       1  \n",
            "10 últimas filas:\n",
            "         ID  edad  meses  max_ant   ingreso  score  tipo_vivienda  zona  nivel  \\\n",
            "4490  1486  59.0  288.0      0.0  30000.00  207.0              2   1.0      2   \n",
            "4491  1487  55.0  294.0     57.0   9300.00  238.0              4   1.0      2   \n",
            "4492  1488  53.0  148.0    106.0  30000.00  219.0              4   1.0      2   \n",
            "4493  1491  29.0  198.0     94.0   5250.00  214.0              2   1.0      2   \n",
            "4494  1493  32.0  195.0     41.0   7500.00  219.0              2   1.0      2   \n",
            "4495  1494  54.0  510.0     87.0  24000.00  214.0              2   1.0      2   \n",
            "4496  1495  63.0  305.0     99.0   9880.73  219.0              2   5.0      2   \n",
            "4497  1496  48.0  194.0    124.0  23000.00  224.0              4   1.0      2   \n",
            "4498  1497  39.0  245.0    121.0  12450.00  240.0              4   5.0      2   \n",
            "4499  1499  65.0  674.0     38.0  20000.00  238.0              4   5.0      2   \n",
            "\n",
            "      riesgo  \n",
            "4490       0  \n",
            "4491       0  \n",
            "4492       0  \n",
            "4493       0  \n",
            "4494       0  \n",
            "4495       0  \n",
            "4496       0  \n",
            "4497       0  \n",
            "4498       0  \n",
            "4499       0  \n",
            "\n",
            "Cantidad de datos perdidos/nulos: 39\n",
            "Contenido del contenedor:\n",
            "       ID  edad  meses  max_ant  ingreso  score  tipo_vivienda  zona  nivel  \\\n",
            "0   2208  33.0  128.0      6.0  3230.00  192.0              2   3.0      2   \n",
            "1   2211  32.0  185.0      7.0  2930.00  217.0              2   1.0      5   \n",
            "2   2212  28.0    NaN      7.0  1883.70  202.0              2   1.0      2   \n",
            "3   2216  56.0  200.0      0.0   850.00  194.0              2   1.0      5   \n",
            "4   2218  32.0  131.0     65.0  3200.00  200.0              2   1.0      2   \n",
            "..   ...   ...    ...      ...      ...    ...            ...   ...    ...   \n",
            "95  2387  41.0  141.0      0.0  3420.36  214.0              4   2.0      1   \n",
            "96  2389  29.0  159.0     17.0  1157.06  163.0              2   4.0      2   \n",
            "97  2391  27.0  122.0      NaN  2000.00  188.0              2   1.0      2   \n",
            "98  2392  35.0  111.0      0.0   812.53  177.0              2   1.0      5   \n",
            "99  2394  28.0  137.0      0.0  2000.00  175.0              3   1.0      5   \n",
            "\n",
            "    riesgo  \n",
            "0        1  \n",
            "1        1  \n",
            "2        1  \n",
            "3        1  \n",
            "4        1  \n",
            "..     ...  \n",
            "95       1  \n",
            "96       1  \n",
            "97       1  \n",
            "98       1  \n",
            "99       1  \n",
            "\n",
            "[100 rows x 10 columns]\n"
          ]
        }
      ]
    }
  ]
}